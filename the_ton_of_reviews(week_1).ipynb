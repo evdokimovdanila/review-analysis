{
  "nbformat": 4,
  "nbformat_minor": 0,
  "metadata": {
    "colab": {
      "name": "the ton of reviews(week 1).ipynb",
      "provenance": [],
      "collapsed_sections": []
    },
    "kernelspec": {
      "display_name": "Python 3",
      "name": "python3"
    },
    "language_info": {
      "name": "python"
    }
  },
  "cells": [
    {
      "cell_type": "code",
      "metadata": {
        "id": "DmhfDBbOkb6U"
      },
      "source": [
        "import nltk\n",
        "from sklearn.feature_extraction.text import CountVectorizer\n",
        "from sklearn.pipeline import Pipeline\n",
        "from sklearn.model_selection import cross_val_score\n",
        "from sklearn.linear_model import LogisticRegression\n",
        "from warnings import filterwarnings"
      ],
      "execution_count": null,
      "outputs": []
    },
    {
      "cell_type": "code",
      "metadata": {
        "id": "l4yNNhzMB8ws"
      },
      "source": [
        "def write_answer(string, number):\n",
        "  with open(f'answer_{number}.txt', 'w') as f:\n",
        "    f.write(string)\n"
      ],
      "execution_count": null,
      "outputs": []
    },
    {
      "cell_type": "code",
      "metadata": {
        "colab": {
          "base_uri": "https://localhost:8080/",
          "height": 240
        },
        "id": "niCTsU9NsWmI",
        "outputId": "22d21478-6630-4bec-bc2e-76144b91f940"
      },
      "source": [
        "nltk.download('movie_reviews')\n",
        "negids = movie_reviews.fileids('neg')\n",
        "posids = movie_reviews.fileids('pos')"
      ],
      "execution_count": null,
      "outputs": [
        {
          "output_type": "stream",
          "text": [
            "[nltk_data] Downloading package movie_reviews to /root/nltk_data...\n",
            "[nltk_data]   Unzipping corpora/movie_reviews.zip.\n"
          ],
          "name": "stdout"
        },
        {
          "output_type": "error",
          "ename": "NameError",
          "evalue": "ignored",
          "traceback": [
            "\u001b[0;31m---------------------------------------------------------------------------\u001b[0m",
            "\u001b[0;31mNameError\u001b[0m                                 Traceback (most recent call last)",
            "\u001b[0;32m<ipython-input-2-20343dfe8218>\u001b[0m in \u001b[0;36m<module>\u001b[0;34m()\u001b[0m\n\u001b[1;32m      1\u001b[0m \u001b[0mnltk\u001b[0m\u001b[0;34m.\u001b[0m\u001b[0mdownload\u001b[0m\u001b[0;34m(\u001b[0m\u001b[0;34m'movie_reviews'\u001b[0m\u001b[0;34m)\u001b[0m\u001b[0;34m\u001b[0m\u001b[0;34m\u001b[0m\u001b[0m\n\u001b[0;32m----> 2\u001b[0;31m \u001b[0mnegids\u001b[0m \u001b[0;34m=\u001b[0m \u001b[0mmovie_reviews\u001b[0m\u001b[0;34m.\u001b[0m\u001b[0mfileids\u001b[0m\u001b[0;34m(\u001b[0m\u001b[0;34m'neg'\u001b[0m\u001b[0;34m)\u001b[0m\u001b[0;34m\u001b[0m\u001b[0;34m\u001b[0m\u001b[0m\n\u001b[0m\u001b[1;32m      3\u001b[0m \u001b[0mposids\u001b[0m \u001b[0;34m=\u001b[0m \u001b[0mmovie_reviews\u001b[0m\u001b[0;34m.\u001b[0m\u001b[0mfileids\u001b[0m\u001b[0;34m(\u001b[0m\u001b[0;34m'pos'\u001b[0m\u001b[0;34m)\u001b[0m\u001b[0;34m\u001b[0m\u001b[0;34m\u001b[0m\u001b[0m\n",
            "\u001b[0;31mNameError\u001b[0m: name 'movie_reviews' is not defined"
          ]
        }
      ]
    },
    {
      "cell_type": "code",
      "metadata": {
        "id": "ZwvijIFQsqGm"
      },
      "source": [
        "negfeats = [' '.join(movie_reviews.words(fileids=[f]))for f in negids]\n",
        "posfeats = [' '.join(movie_reviews.words(fileids=[f])) for f in posids]\n"
      ],
      "execution_count": null,
      "outputs": []
    },
    {
      "cell_type": "code",
      "metadata": {
        "colab": {
          "base_uri": "https://localhost:8080/"
        },
        "id": "oko7j7BSuHyg",
        "outputId": "f2ed5841-4891-44f7-9824-a3a8dbc247dd"
      },
      "source": [
        "reviews = negfeats.copy()\n",
        "reviews.extend(posfeats)\n",
        "labels = [0]*len(negfeats) + [1]*len(posfeats)\n",
        "len(labels)\n"
      ],
      "execution_count": null,
      "outputs": [
        {
          "output_type": "execute_result",
          "data": {
            "text/plain": [
              "2000"
            ]
          },
          "metadata": {
            "tags": []
          },
          "execution_count": 39
        }
      ]
    },
    {
      "cell_type": "code",
      "metadata": {
        "id": "U7FAsItMv1jM"
      },
      "source": [
        "count_rev = len(reviews)\n",
        "por_pos = len(posfeats)/count_rev"
      ],
      "execution_count": null,
      "outputs": []
    },
    {
      "cell_type": "code",
      "metadata": {
        "id": "7jwwNqGGCgKq"
      },
      "source": [
        "write_answer(str(count_rev), 1)\n",
        "write_answer(str(por_pos), 2)"
      ],
      "execution_count": null,
      "outputs": []
    },
    {
      "cell_type": "code",
      "metadata": {
        "id": "0BB_Ug3axvNa"
      },
      "source": [
        "counter = CountVectorizer()\n",
        "transform_data = counter.fit_transform(reviews)\n",
        "count_features = len(counter.get_feature_names())"
      ],
      "execution_count": null,
      "outputs": []
    },
    {
      "cell_type": "code",
      "metadata": {
        "id": "P-nZYIUr4BBa"
      },
      "source": [
        "write_answer(str(count_features), 3)"
      ],
      "execution_count": null,
      "outputs": []
    },
    {
      "cell_type": "code",
      "metadata": {
        "id": "lyWzXbMtElce"
      },
      "source": [
        "def text_class(vectorizer, cls):\n",
        "  return Pipeline([\n",
        "                   ('vectorizer', vectorizer),\n",
        "                   ('classifier', cls)\n",
        "                  ])"
      ],
      "execution_count": null,
      "outputs": []
    },
    {
      "cell_type": "code",
      "metadata": {
        "id": "cybxHWi2F3cY"
      },
      "source": [
        "filterwarnings('ignore')\n",
        "cv_accuracy = cross_val_score(text_class(CountVectorizer(), LogisticRegression()),reviews, labels, scoring='accuracy')\n",
        "filterwarnings('default')"
      ],
      "execution_count": null,
      "outputs": []
    },
    {
      "cell_type": "code",
      "metadata": {
        "colab": {
          "base_uri": "https://localhost:8080/"
        },
        "id": "lKWi5Be9GtUu",
        "outputId": "9959be6f-4f7e-4cad-ca71-7f8cc1d12756"
      },
      "source": [
        "write_answer(str(cv_accuracy.mean()), 4)\n",
        "print(f\"Mean accuracy: {cv_accuracy.mean():.2f}\")"
      ],
      "execution_count": null,
      "outputs": [
        {
          "output_type": "stream",
          "text": [
            "Mean accuracy: 0.84\n"
          ],
          "name": "stdout"
        }
      ]
    },
    {
      "cell_type": "code",
      "metadata": {
        "id": "ba3hUp3dH_Qs"
      },
      "source": [
        "filterwarnings('ignore')\n",
        "cv_roc = cross_val_score(text_class(CountVectorizer(), LogisticRegression()),reviews, labels, scoring='roc_auc')\n",
        "filterwarnings('default')"
      ],
      "execution_count": null,
      "outputs": []
    },
    {
      "cell_type": "code",
      "metadata": {
        "colab": {
          "base_uri": "https://localhost:8080/"
        },
        "id": "R8YZFSU3JEZM",
        "outputId": "04778c30-f1fa-49da-d3ed-a478bd6a3eb2"
      },
      "source": [
        "write_answer(str(cv_roc.mean()), 5)\n",
        "print(f\"Mean roc_auc: {cv_roc.mean():.2f}\")"
      ],
      "execution_count": null,
      "outputs": [
        {
          "output_type": "stream",
          "text": [
            "Mean roc_auc: 0.92\n"
          ],
          "name": "stdout"
        }
      ]
    },
    {
      "cell_type": "code",
      "metadata": {
        "id": "tHQ-I9n8KR9c"
      },
      "source": [
        "filterwarnings('ignore')\n",
        "model = text_class(CountVectorizer(), LogisticRegression()).fit(reviews, labels)"
      ],
      "execution_count": null,
      "outputs": []
    },
    {
      "cell_type": "code",
      "metadata": {
        "id": "AA_Jl7NVK1rs"
      },
      "source": [
        "coef_model = model.named_steps['classifier'].coef_[0]"
      ],
      "execution_count": null,
      "outputs": []
    },
    {
      "cell_type": "code",
      "metadata": {
        "colab": {
          "base_uri": "https://localhost:8080/"
        },
        "id": "bSKsC8RxQm4y",
        "outputId": "f6fdf39a-6482-4195-a2a5-0ad16ee23929"
      },
      "source": [
        "coef_model"
      ],
      "execution_count": null,
      "outputs": [
        {
          "output_type": "execute_result",
          "data": {
            "text/plain": [
              "array([ 0.01163307, -0.01003733,  0.00050346, ..., -0.00820573,\n",
              "        0.00093842, -0.00120056])"
            ]
          },
          "metadata": {
            "tags": []
          },
          "execution_count": 94
        }
      ]
    },
    {
      "cell_type": "code",
      "metadata": {
        "id": "B_6GKGdzLpNc"
      },
      "source": [
        "words_weights = sorted(zip(counter.get_feature_names(), coef_model), key=lambda x:abs(x[1]), reverse=True)"
      ],
      "execution_count": null,
      "outputs": []
    },
    {
      "cell_type": "code",
      "metadata": {
        "colab": {
          "base_uri": "https://localhost:8080/"
        },
        "id": "511-ZxFiPesw",
        "outputId": "830a9a16-678d-407c-a713-8d75afb0c425"
      },
      "source": [
        "print(words_weights[:5])"
      ],
      "execution_count": null,
      "outputs": [
        {
          "output_type": "stream",
          "text": [
            "[('bad', -0.8133921073119603), ('unfortunately', -0.6407224381351485), ('worst', -0.6025457911738439), ('fun', 0.5657956437093358), ('nothing', -0.5201830259804604)]\n"
          ],
          "name": "stdout"
        }
      ]
    },
    {
      "cell_type": "code",
      "metadata": {
        "id": "XcQTtAqlc8re"
      },
      "source": [
        ""
      ],
      "execution_count": null,
      "outputs": []
    }
  ]
}