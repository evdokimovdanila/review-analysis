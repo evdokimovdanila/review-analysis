{
  "nbformat": 4,
  "nbformat_minor": 0,
  "metadata": {
    "colab": {
      "name": "the ton of reviews(week 2).ipynb",
      "provenance": [],
      "collapsed_sections": []
    },
    "kernelspec": {
      "name": "python3",
      "display_name": "Python 3"
    },
    "language_info": {
      "name": "python"
    }
  },
  "cells": [
    {
      "cell_type": "code",
      "metadata": {
        "id": "gib0wI2g7dzG"
      },
      "source": [
        "from nltk.corpus import movie_reviews\n",
        "import nltk\n",
        "from sklearn.pipeline import Pipeline\n",
        "from sklearn.feature_extraction.text import CountVectorizer, TfidfVectorizer\n",
        "from sklearn.linear_model import LogisticRegression, SGDClassifier\n",
        "from sklearn.svm import LinearSVC\n",
        "from sklearn.model_selection import cross_val_score\n",
        "import numpy as np\n",
        "import warnings"
      ],
      "execution_count": 20,
      "outputs": []
    },
    {
      "cell_type": "code",
      "metadata": {
        "id": "03IHnT1qPWzg"
      },
      "source": [
        "def write_answer(string, num):\n",
        "  with open(f'answer_{num}.txt', 'w') as f:\n",
        "    f.write(string)"
      ],
      "execution_count": 2,
      "outputs": []
    },
    {
      "cell_type": "code",
      "metadata": {
        "colab": {
          "base_uri": "https://localhost:8080/"
        },
        "id": "EqH_AIQT-ync",
        "outputId": "6657d092-9d09-400d-d973-a762159c769a"
      },
      "source": [
        "nltk.download('movie_reviews')\n",
        "negids = movie_reviews.fileids('neg')\n",
        "posids = movie_reviews.fileids('pos')"
      ],
      "execution_count": 3,
      "outputs": [
        {
          "output_type": "stream",
          "text": [
            "[nltk_data] Downloading package movie_reviews to /root/nltk_data...\n",
            "[nltk_data]   Unzipping corpora/movie_reviews.zip.\n"
          ],
          "name": "stdout"
        }
      ]
    },
    {
      "cell_type": "code",
      "metadata": {
        "id": "1YluP0Y6_r14"
      },
      "source": [
        "negfeats = [' '.join(movie_reviews.words(fileids=[f]))for f in negids]\n",
        "posfeats = [' '.join(movie_reviews.words(fileids=[f])) for f in posids]"
      ],
      "execution_count": 4,
      "outputs": []
    },
    {
      "cell_type": "code",
      "metadata": {
        "id": "mKxr6hknBRmI"
      },
      "source": [
        "reviews = negfeats + posfeats\n",
        "labels = [0]*len(negfeats) + [1]*len(posfeats)"
      ],
      "execution_count": 5,
      "outputs": []
    },
    {
      "cell_type": "code",
      "metadata": {
        "id": "orEdE4d8ETkq"
      },
      "source": [
        "def class_text(vect, cls):\n",
        "  return Pipeline([\n",
        "                   ('vectorizer', vect),\n",
        "                   ('classifier', cls)\n",
        "                  ])\n"
      ],
      "execution_count": 6,
      "outputs": []
    },
    {
      "cell_type": "markdown",
      "metadata": {
        "id": "kxuv4M4jG-NM"
      },
      "source": [
        "Построение pipeline на частотных признаках и tfidf"
      ]
    },
    {
      "cell_type": "code",
      "metadata": {
        "id": "GqUnu9Hnw316"
      },
      "source": [
        "warnings.filterwarnings('ignore')\n",
        "cv_counvect = cross_val_score(class_text(CountVectorizer(), LogisticRegression()),reviews,labels,cv=5, scoring='accuracy')"
      ],
      "execution_count": 7,
      "outputs": []
    },
    {
      "cell_type": "code",
      "metadata": {
        "colab": {
          "base_uri": "https://localhost:8080/"
        },
        "id": "j8y5d3NZxzG8",
        "outputId": "a1f05c11-4c90-47a9-f001-99756711d4a0"
      },
      "source": [
        "print(f\"Mean accuracy: {cv_counvect.mean()}\")\n",
        "print(f\"Mean std: {cv_counvect.std()}\")"
      ],
      "execution_count": 8,
      "outputs": [
        {
          "output_type": "stream",
          "text": [
            "Mean accuracy: 0.8424999999999999\n",
            "Mean std: 0.021794494717703363\n"
          ],
          "name": "stdout"
        }
      ]
    },
    {
      "cell_type": "code",
      "metadata": {
        "id": "VtO2NN0QzO9e"
      },
      "source": [
        "cv_tfidf = cross_val_score(class_text(TfidfVectorizer(), LogisticRegression()), reviews, labels, cv=5, scoring='accuracy')"
      ],
      "execution_count": 9,
      "outputs": []
    },
    {
      "cell_type": "code",
      "metadata": {
        "colab": {
          "base_uri": "https://localhost:8080/"
        },
        "id": "kXT-_CbR92w9",
        "outputId": "f27cf192-9bda-4b83-d281-d3d23ff22e60"
      },
      "source": [
        "print(f\"Mean accuracy: {cv_tfidf.mean()}\")\n",
        "print(f\"Mean std: {cv_tfidf.std()}\")"
      ],
      "execution_count": 10,
      "outputs": [
        {
          "output_type": "stream",
          "text": [
            "Mean accuracy: 0.8205\n",
            "Mean std: 0.003999999999999995\n"
          ],
          "name": "stdout"
        }
      ]
    },
    {
      "cell_type": "code",
      "metadata": {
        "id": "N1BWoFY199es"
      },
      "source": [
        "write_answer(' '.join(map(str, [cv_counvect.mean(),cv_counvect.std(),cv_tfidf.mean(),cv_tfidf.std()])),1)"
      ],
      "execution_count": 11,
      "outputs": []
    },
    {
      "cell_type": "markdown",
      "metadata": {
        "id": "rj3_fU1vHH7G"
      },
      "source": [
        "Удаление слишком редких слов"
      ]
    },
    {
      "cell_type": "code",
      "metadata": {
        "id": "Jk6E5Xy--fR6"
      },
      "source": [
        "accuracy_n_min = []\n",
        "for n_min in [10, 50]:\n",
        "  cv_result = cross_val_score(class_text(CountVectorizer(min_df=n_min), LogisticRegression()), reviews, labels, cv=5, scoring='accuracy')\n",
        "  accuracy_n_min.append(cv_result.mean())"
      ],
      "execution_count": 12,
      "outputs": []
    },
    {
      "cell_type": "code",
      "metadata": {
        "colab": {
          "base_uri": "https://localhost:8080/"
        },
        "id": "w3FdwQRsInKs",
        "outputId": "51842dc5-3851-43ed-9852-19b2f1dcf688"
      },
      "source": [
        "print(accuracy_n_min)"
      ],
      "execution_count": 13,
      "outputs": [
        {
          "output_type": "stream",
          "text": [
            "[0.8400000000000001, 0.8140000000000001]\n"
          ],
          "name": "stdout"
        }
      ]
    },
    {
      "cell_type": "code",
      "metadata": {
        "id": "vAI-0XOrIyIE"
      },
      "source": [
        "write_answer(' '.join(map(str, accuracy_n_min)), 2)"
      ],
      "execution_count": 14,
      "outputs": []
    },
    {
      "cell_type": "markdown",
      "metadata": {
        "id": "h6oasGuSM4kk"
      },
      "source": [
        "Различные классификаторы"
      ]
    },
    {
      "cell_type": "code",
      "metadata": {
        "id": "6qLlPV3XK1JE"
      },
      "source": [
        "np.random.seed(42)\n",
        "accuracy_dif_cls = []\n",
        "cls_list = [LogisticRegression(), LinearSVC(), SGDClassifier()]\n",
        "for cls in cls_list:\n",
        "  cv_result = cross_val_score(class_text(CountVectorizer(), cls), reviews, labels, cv=5, scoring='accuracy')\n",
        "  accuracy_dif_cls.append(cv_result.mean())"
      ],
      "execution_count": 15,
      "outputs": []
    },
    {
      "cell_type": "code",
      "metadata": {
        "colab": {
          "base_uri": "https://localhost:8080/"
        },
        "id": "WyMAwKmaQCKG",
        "outputId": "6a195161-c846-4904-c873-cdc0c304fcfc"
      },
      "source": [
        "accuracy_dif_cls"
      ],
      "execution_count": 16,
      "outputs": [
        {
          "output_type": "execute_result",
          "data": {
            "text/plain": [
              "[0.8424999999999999, 0.8325000000000001, 0.835]"
            ]
          },
          "metadata": {
            "tags": []
          },
          "execution_count": 16
        }
      ]
    },
    {
      "cell_type": "code",
      "metadata": {
        "id": "ghBLVL8jQD7U"
      },
      "source": [
        "write_answer(str(min(accuracy_dif_cls)), 3)"
      ],
      "execution_count": 17,
      "outputs": []
    },
    {
      "cell_type": "markdown",
      "metadata": {
        "id": "0j6flvucWacu"
      },
      "source": [
        "Удаление стоп слов\n",
        "  "
      ]
    },
    {
      "cell_type": "code",
      "metadata": {
        "id": "IWn7c7NtQS8-",
        "colab": {
          "base_uri": "https://localhost:8080/"
        },
        "outputId": "0f2ffb4c-aa09-4768-e537-6125a5c31d52"
      },
      "source": [
        "nltk.download('stopwords')\n",
        "stop_words_nltk = nltk.corpus.stopwords.words('english')"
      ],
      "execution_count": 25,
      "outputs": [
        {
          "output_type": "stream",
          "text": [
            "[nltk_data] Downloading package stopwords to /root/nltk_data...\n",
            "[nltk_data]   Package stopwords is already up-to-date!\n"
          ],
          "name": "stdout"
        }
      ]
    },
    {
      "cell_type": "code",
      "metadata": {
        "id": "RzZtpDtn7uND"
      },
      "source": [
        "cv_result_nltk = cross_val_score(class_text(CountVectorizer(stop_words=stop_words_nltk), cls), reviews, labels, cv=5, scoring='accuracy')\n",
        "cvresult_sklearn = cross_val_score(class_text(CountVectorizer(stop_words='english'), cls), reviews, labels, cv=5, scoring='accuracy')"
      ],
      "execution_count": 26,
      "outputs": []
    },
    {
      "cell_type": "code",
      "metadata": {
        "colab": {
          "base_uri": "https://localhost:8080/"
        },
        "id": "ozE3B8o880O_",
        "outputId": "8ea941a8-702a-4b65-93f1-6d9b0e76197c"
      },
      "source": [
        "print(f\"mean accuarcy without stop_words: {cv_result_nltk.mean():.2f} and {cvresult_sklearn.mean():.2f}\")"
      ],
      "execution_count": 29,
      "outputs": [
        {
          "output_type": "stream",
          "text": [
            "mean accuarcy without stop_words: 0.83 and 0.83\n"
          ],
          "name": "stdout"
        }
      ]
    },
    {
      "cell_type": "code",
      "metadata": {
        "id": "ocd-ur8R9JCY"
      },
      "source": [
        "write_answer(' '.join(map(str, [cv_result_nltk.mean(), cvresult_sklearn.mean()])), 4)"
      ],
      "execution_count": 30,
      "outputs": []
    },
    {
      "cell_type": "markdown",
      "metadata": {
        "id": "pH_esUVI9xxO"
      },
      "source": [
        "Учет n-грамм"
      ]
    },
    {
      "cell_type": "code",
      "metadata": {
        "id": "ZqiDeJji9icI"
      },
      "source": [
        "cv_result_2 = cross_val_score(class_text(CountVectorizer(ngram_range=(1,2)), cls), reviews, labels, cv=5, scoring='accuracy')\n",
        "cv_result_35 = cross_val_score(class_text(CountVectorizer(ngram_range=(3,5), analyzer='char_wb'), cls), reviews, labels, cv=5, scoring='accuracy')"
      ],
      "execution_count": 34,
      "outputs": []
    },
    {
      "cell_type": "code",
      "metadata": {
        "colab": {
          "base_uri": "https://localhost:8080/"
        },
        "id": "8ldMKsQd_seR",
        "outputId": "eb8f491a-3a52-48f2-a839-4625d8b5b707"
      },
      "source": [
        "print(f\"mean accuarcy for bigram: {cv_result_2.mean():.2f}\")\n",
        "print(f\"mean accuarcy for 3 to 5 chargram: {cv_result_35.mean():.2f}\")"
      ],
      "execution_count": 35,
      "outputs": [
        {
          "output_type": "stream",
          "text": [
            "mean accuarcy for bigram: 0.84\n",
            "mean accuarcy for 3 to 5 chargram: 0.82\n"
          ],
          "name": "stdout"
        }
      ]
    },
    {
      "cell_type": "code",
      "metadata": {
        "id": "O_WLF1oRAFZF"
      },
      "source": [
        "write_answer(' '.join(map(str, [cv_result_2.mean(), cv_result_35.mean()])), 5)"
      ],
      "execution_count": 36,
      "outputs": []
    },
    {
      "cell_type": "code",
      "metadata": {
        "id": "_yHZ4373Aafw"
      },
      "source": [
        ""
      ],
      "execution_count": null,
      "outputs": []
    }
  ]
}