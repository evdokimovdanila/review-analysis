{
  "nbformat": 4,
  "nbformat_minor": 0,
  "metadata": {
    "colab": {
      "name": "the ton of reviews(week 2).ipynb",
      "provenance": [],
      "collapsed_sections": []
    },
    "kernelspec": {
      "name": "python3",
      "display_name": "Python 3"
    },
    "language_info": {
      "name": "python"
    }
  },
  "cells": [
    {
      "cell_type": "code",
      "metadata": {
        "id": "gib0wI2g7dzG"
      },
      "source": [
        "from nltk.corpus import movie_reviews\n",
        "import nltk\n",
        "from sklearn.pipeline import Pipeline\n",
        "from sklearn.feature_extraction.text import CountVectorizer, TfidfVectorizer\n",
        "from sklearn.linear_model import LogisticRegression\n",
        "from sklearn.model_selection import cross_val_score\n",
        "import warnings"
      ],
      "execution_count": 1,
      "outputs": []
    },
    {
      "cell_type": "code",
      "metadata": {
        "id": "03IHnT1qPWzg"
      },
      "source": [
        "def write_answer(string, num):\n",
        "  with open(f'answer_{num}.txt', 'w') as f:\n",
        "    f.write(string)"
      ],
      "execution_count": 2,
      "outputs": []
    },
    {
      "cell_type": "code",
      "metadata": {
        "colab": {
          "base_uri": "https://localhost:8080/"
        },
        "id": "EqH_AIQT-ync",
        "outputId": "1106ca48-26c8-408a-a4df-442792cda743"
      },
      "source": [
        "nltk.download('movie_reviews')\n",
        "negids = movie_reviews.fileids('neg')\n",
        "posids = movie_reviews.fileids('pos')"
      ],
      "execution_count": 3,
      "outputs": [
        {
          "output_type": "stream",
          "text": [
            "[nltk_data] Downloading package movie_reviews to /root/nltk_data...\n",
            "[nltk_data]   Unzipping corpora/movie_reviews.zip.\n"
          ],
          "name": "stdout"
        }
      ]
    },
    {
      "cell_type": "code",
      "metadata": {
        "id": "1YluP0Y6_r14"
      },
      "source": [
        "negfeats = [' '.join(movie_reviews.words(fileids=[f]))for f in negids]\n",
        "posfeats = [' '.join(movie_reviews.words(fileids=[f])) for f in posids]"
      ],
      "execution_count": 4,
      "outputs": []
    },
    {
      "cell_type": "code",
      "metadata": {
        "id": "mKxr6hknBRmI"
      },
      "source": [
        "reviews = negfeats + posfeats\n",
        "labels = [0]*len(negfeats) + [1]*len(posfeats)"
      ],
      "execution_count": 5,
      "outputs": []
    },
    {
      "cell_type": "code",
      "metadata": {
        "id": "orEdE4d8ETkq"
      },
      "source": [
        "def class_text(vect, cls):\n",
        "  return Pipeline([\n",
        "                   ('vectorizer', vect),\n",
        "                   ('classifier', cls)\n",
        "                  ])\n"
      ],
      "execution_count": 6,
      "outputs": []
    },
    {
      "cell_type": "code",
      "metadata": {
        "id": "GqUnu9Hnw316"
      },
      "source": [
        "warnings.filterwarnings('ignore')\n",
        "cv_counvect = cross_val_score(class_text(CountVectorizer(), LogisticRegression()),reviews,labels,cv=5, scoring='accuracy')"
      ],
      "execution_count": 7,
      "outputs": []
    },
    {
      "cell_type": "code",
      "metadata": {
        "colab": {
          "base_uri": "https://localhost:8080/"
        },
        "id": "j8y5d3NZxzG8",
        "outputId": "382e0eb8-df7a-4707-bc79-93304a955a13"
      },
      "source": [
        "print(f\"Mean accuracy: {cv_counvect.mean()}\")\n",
        "print(f\"Mean std: {cv_counvect.std()}\")"
      ],
      "execution_count": 8,
      "outputs": [
        {
          "output_type": "stream",
          "text": [
            "Mean accuracy: 0.8424999999999999\n",
            "Mean std: 0.021794494717703363\n"
          ],
          "name": "stdout"
        }
      ]
    },
    {
      "cell_type": "code",
      "metadata": {
        "id": "VtO2NN0QzO9e"
      },
      "source": [
        "cv_tfidf = cross_val_score(class_text(TfidfVectorizer(), LogisticRegression()), reviews, labels, cv=5, scoring='accuracy')"
      ],
      "execution_count": 9,
      "outputs": []
    },
    {
      "cell_type": "code",
      "metadata": {
        "colab": {
          "base_uri": "https://localhost:8080/"
        },
        "id": "kXT-_CbR92w9",
        "outputId": "e443686a-12ac-492c-c64a-c6209b2cb058"
      },
      "source": [
        "print(f\"Mean accuracy: {cv_tfidf.mean()}\")\n",
        "print(f\"Mean std: {cv_tfidf.std()}\")"
      ],
      "execution_count": 10,
      "outputs": [
        {
          "output_type": "stream",
          "text": [
            "Mean accuracy: 0.8205\n",
            "Mean std: 0.003999999999999995\n"
          ],
          "name": "stdout"
        }
      ]
    },
    {
      "cell_type": "code",
      "metadata": {
        "id": "N1BWoFY199es"
      },
      "source": [
        "write_answer(' '.join(map(str, [cv_counvect.mean(),cv_counvect.std(),cv_tfidf.mean(),cv_tfidf.std()])),1)"
      ],
      "execution_count": 12,
      "outputs": []
    },
    {
      "cell_type": "code",
      "metadata": {
        "id": "Jk6E5Xy--fR6"
      },
      "source": [
        ""
      ],
      "execution_count": null,
      "outputs": []
    }
  ]
}